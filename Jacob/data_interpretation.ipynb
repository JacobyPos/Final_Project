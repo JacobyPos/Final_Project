{
 "cells": [
  {
   "cell_type": "code",
   "execution_count": 7,
   "metadata": {},
   "outputs": [],
   "source": [
    "import pandas as pd"
   ]
  },
  {
   "cell_type": "code",
   "execution_count": 8,
   "metadata": {},
   "outputs": [
    {
     "data": {
      "text/html": [
       "<div>\n",
       "<style scoped>\n",
       "    .dataframe tbody tr th:only-of-type {\n",
       "        vertical-align: middle;\n",
       "    }\n",
       "\n",
       "    .dataframe tbody tr th {\n",
       "        vertical-align: top;\n",
       "    }\n",
       "\n",
       "    .dataframe thead th {\n",
       "        text-align: right;\n",
       "    }\n",
       "</style>\n",
       "<table border=\"1\" class=\"dataframe\">\n",
       "  <thead>\n",
       "    <tr style=\"text-align: right;\">\n",
       "      <th></th>\n",
       "      <th>year</th>\n",
       "      <th>model</th>\n",
       "      <th>body</th>\n",
       "      <th>transmission</th>\n",
       "      <th>state</th>\n",
       "      <th>condition</th>\n",
       "      <th>odometer</th>\n",
       "      <th>color</th>\n",
       "      <th>interior</th>\n",
       "      <th>mmr</th>\n",
       "      <th>sellingprice</th>\n",
       "      <th>ext color prediction</th>\n",
       "      <th>int color prediction</th>\n",
       "      <th>exclusion of color prediction</th>\n",
       "    </tr>\n",
       "  </thead>\n",
       "  <tbody>\n",
       "    <tr>\n",
       "      <th>0</th>\n",
       "      <td>2012</td>\n",
       "      <td>Avenger</td>\n",
       "      <td>Sedan</td>\n",
       "      <td>automatic</td>\n",
       "      <td>ga</td>\n",
       "      <td>43.0</td>\n",
       "      <td>66978.0</td>\n",
       "      <td>white</td>\n",
       "      <td>black</td>\n",
       "      <td>8050.0</td>\n",
       "      <td>8900.0</td>\n",
       "      <td>8564.0</td>\n",
       "      <td>8557.02</td>\n",
       "      <td>8588.0</td>\n",
       "    </tr>\n",
       "    <tr>\n",
       "      <th>1</th>\n",
       "      <td>2007</td>\n",
       "      <td>Dakota</td>\n",
       "      <td>quad cab</td>\n",
       "      <td>automatic</td>\n",
       "      <td>nc</td>\n",
       "      <td>35.0</td>\n",
       "      <td>79673.0</td>\n",
       "      <td>red</td>\n",
       "      <td>gray</td>\n",
       "      <td>10650.0</td>\n",
       "      <td>11000.0</td>\n",
       "      <td>11121.0</td>\n",
       "      <td>11159.01</td>\n",
       "      <td>11111.0</td>\n",
       "    </tr>\n",
       "    <tr>\n",
       "      <th>2</th>\n",
       "      <td>2004</td>\n",
       "      <td>Durango</td>\n",
       "      <td>SUV</td>\n",
       "      <td>automatic</td>\n",
       "      <td>pa</td>\n",
       "      <td>22.0</td>\n",
       "      <td>184741.0</td>\n",
       "      <td>blue</td>\n",
       "      <td>gray</td>\n",
       "      <td>2925.0</td>\n",
       "      <td>1400.0</td>\n",
       "      <td>1662.5</td>\n",
       "      <td>1661.00</td>\n",
       "      <td>1677.5</td>\n",
       "    </tr>\n",
       "    <tr>\n",
       "      <th>3</th>\n",
       "      <td>2012</td>\n",
       "      <td>Grand Caravan</td>\n",
       "      <td>Minivan</td>\n",
       "      <td>automatic</td>\n",
       "      <td>md</td>\n",
       "      <td>46.0</td>\n",
       "      <td>59159.0</td>\n",
       "      <td>white</td>\n",
       "      <td>black</td>\n",
       "      <td>10600.0</td>\n",
       "      <td>10200.0</td>\n",
       "      <td>10530.0</td>\n",
       "      <td>10546.00</td>\n",
       "      <td>10511.0</td>\n",
       "    </tr>\n",
       "    <tr>\n",
       "      <th>4</th>\n",
       "      <td>2012</td>\n",
       "      <td>Grand Caravan</td>\n",
       "      <td>Minivan</td>\n",
       "      <td>automatic</td>\n",
       "      <td>ga</td>\n",
       "      <td>36.0</td>\n",
       "      <td>143026.0</td>\n",
       "      <td>silver</td>\n",
       "      <td>black</td>\n",
       "      <td>6200.0</td>\n",
       "      <td>5700.0</td>\n",
       "      <td>6057.0</td>\n",
       "      <td>5968.00</td>\n",
       "      <td>6021.0</td>\n",
       "    </tr>\n",
       "  </tbody>\n",
       "</table>\n",
       "</div>"
      ],
      "text/plain": [
       "   year          model      body transmission state  condition  odometer  \\\n",
       "0  2012        Avenger     Sedan    automatic    ga       43.0   66978.0   \n",
       "1  2007         Dakota  quad cab    automatic    nc       35.0   79673.0   \n",
       "2  2004        Durango       SUV    automatic    pa       22.0  184741.0   \n",
       "3  2012  Grand Caravan   Minivan    automatic    md       46.0   59159.0   \n",
       "4  2012  Grand Caravan   Minivan    automatic    ga       36.0  143026.0   \n",
       "\n",
       "    color interior      mmr  sellingprice  ext color prediction  \\\n",
       "0   white    black   8050.0        8900.0                8564.0   \n",
       "1     red     gray  10650.0       11000.0               11121.0   \n",
       "2    blue     gray   2925.0        1400.0                1662.5   \n",
       "3   white    black  10600.0       10200.0               10530.0   \n",
       "4  silver    black   6200.0        5700.0                6057.0   \n",
       "\n",
       "   int color prediction  exclusion of color prediction  \n",
       "0               8557.02                         8588.0  \n",
       "1              11159.01                        11111.0  \n",
       "2               1661.00                         1677.5  \n",
       "3              10546.00                        10511.0  \n",
       "4               5968.00                         6021.0  "
      ]
     },
     "execution_count": 8,
     "metadata": {},
     "output_type": "execute_result"
    }
   ],
   "source": [
    "#importing predictions csv\n",
    "df = pd.read_csv('final_predictions_dodge.csv')\n",
    "df.head()"
   ]
  },
  {
   "cell_type": "code",
   "execution_count": 21,
   "metadata": {},
   "outputs": [],
   "source": [
    "#find out average % error for the 3 predictions\n",
    "\n",
    "ext_color_percentage_error = round((abs(df['ext color prediction'] - df['sellingprice']) / df['ext color prediction'] * 100).mean(),3)\n",
    "int_color_percentage_error = round((abs(df['int color prediction'] - df['sellingprice']) / df['int color prediction'] * 100).mean(),3)\n",
    "nil_color_percentage_error = round((abs(df['exclusion of color prediction'] - df['sellingprice']) / df['exclusion of color prediction'] * 100).mean(),3)"
   ]
  },
  {
   "cell_type": "code",
   "execution_count": 22,
   "metadata": {},
   "outputs": [
    {
     "name": "stdout",
     "output_type": "stream",
     "text": [
      "using interior color in model, we get 6.363% error\n",
      "using exterior color in model, we get 6.365% error\n",
      "excluding      color in model, we get 6.366% error\n"
     ]
    }
   ],
   "source": [
    "print(f\"using interior color in model, there is a {int_color_percentage_error}% error\")\n",
    "print(f\"using exterior color in model, there is a {ext_color_percentage_error}% error\")\n",
    "print(f\"excluding      color in model, there is a {nil_color_percentage_error}% error\")"
   ]
  },
  {
   "cell_type": "code",
   "execution_count": 23,
   "metadata": {},
   "outputs": [
    {
     "name": "stdout",
     "output_type": "stream",
     "text": [
      "the difference in error comes to about a dollar for a 50,000 vehicle.\n",
      "I'm concluding that color according to the random forest model has nothing to do with sold price of car\n"
     ]
    }
   ],
   "source": [
    "print(\"the difference in error comes to about $1 for a $50,000 vehicle.\")\n",
    "print(\"I'm concluding that color according to the random forest model has nothing to do with sold price of car\")"
   ]
  }
 ],
 "metadata": {
  "kernelspec": {
   "display_name": "Python 3 (ipykernel)",
   "language": "python",
   "name": "python3"
  },
  "language_info": {
   "codemirror_mode": {
    "name": "ipython",
    "version": 3
   },
   "file_extension": ".py",
   "mimetype": "text/x-python",
   "name": "python",
   "nbconvert_exporter": "python",
   "pygments_lexer": "ipython3",
   "version": "3.11.5"
  },
  "vscode": {
   "interpreter": {
    "hash": "31f2aee4e71d21fbe5cf8b01ff0e069b9275f58929596ceb00d14d90e3e16cd6"
   }
  }
 },
 "nbformat": 4,
 "nbformat_minor": 4
}
